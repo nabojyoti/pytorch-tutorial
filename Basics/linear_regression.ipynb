{
 "cells": [
  {
   "cell_type": "code",
   "execution_count": 1,
   "id": "8f8fab22",
   "metadata": {},
   "outputs": [],
   "source": [
    "import torch\n",
    "import torch.nn as nn\n",
    "import numpy as np\n",
    "import matplotlib.pyplot as plt"
   ]
  },
  {
   "cell_type": "code",
   "execution_count": 2,
   "id": "b7c5e9b0",
   "metadata": {},
   "outputs": [],
   "source": [
    "#hyper-parameter\n",
    "input_size = 1\n",
    "output_size = 1\n",
    "num_epochs = 60\n",
    "learning_rate = 0.001"
   ]
  },
  {
   "cell_type": "code",
   "execution_count": 3,
   "id": "949aac1a",
   "metadata": {},
   "outputs": [],
   "source": [
    "#sample data\n",
    "x_train = np.array([[3.3], [4.4], [5.5], [6.71], [6.93], [4.168], \n",
    "                    [9.779], [6.182], [7.59], [2.167], [7.042], \n",
    "                    [10.791], [5.313], [7.997], [3.1]], dtype=np.float32)\n",
    "y_train = np.array([[1.7], [2.76], [2.09], [3.19], [1.694], [1.573], \n",
    "                    [3.366], [2.596], [2.53], [1.221], [2.827], \n",
    "                    [3.465], [1.65], [2.904], [1.3]], dtype=np.float32)"
   ]
  },
  {
   "cell_type": "code",
   "execution_count": 4,
   "id": "ec8da32a",
   "metadata": {},
   "outputs": [],
   "source": [
    "#Linear Regression Model\n",
    "model = nn.Linear(input_size, output_size)\n",
    "\n",
    "#Loss and Optimizer\n",
    "criterion = nn.MSELoss()\n",
    "optimizer = torch.optim.SGD(model.parameters(), lr = learning_rate)\n"
   ]
  },
  {
   "cell_type": "code",
   "execution_count": 5,
   "id": "d71ca61d",
   "metadata": {},
   "outputs": [
    {
     "name": "stdout",
     "output_type": "stream",
     "text": [
      "Epoch [1/60], Loss: 58.0571\n",
      "Epoch [6/60], Loss: 23.6921\n",
      "Epoch [11/60], Loss: 9.7701\n",
      "Epoch [16/60], Loss: 4.1299\n",
      "Epoch [21/60], Loss: 1.8448\n",
      "Epoch [26/60], Loss: 0.9188\n",
      "Epoch [31/60], Loss: 0.5435\n",
      "Epoch [36/60], Loss: 0.3913\n",
      "Epoch [41/60], Loss: 0.3295\n",
      "Epoch [46/60], Loss: 0.3042\n",
      "Epoch [51/60], Loss: 0.2938\n",
      "Epoch [56/60], Loss: 0.2894\n"
     ]
    }
   ],
   "source": [
    "#Train the model\n",
    "for epoch in range(num_epochs):\n",
    "    #convert numpy arrays into torch tensors\n",
    "    inputs = torch.from_numpy(x_train)\n",
    "    targets = torch.from_numpy(y_train)\n",
    "    \n",
    "    #Forward Pass\n",
    "    outputs = model(inputs)\n",
    "    loss = criterion(outputs, targets)\n",
    "    \n",
    "    #Backward and Optimization\n",
    "    optimizer.zero_grad()\n",
    "    loss.backward()\n",
    "    optimizer.step()\n",
    "    \n",
    "    if(epoch%5==0):\n",
    "        print('Epoch [{}/{}], Loss: {:.4f}'.format(epoch+1, num_epochs, loss.item()))\n"
   ]
  },
  {
   "cell_type": "code",
   "execution_count": 6,
   "id": "ce7d6ff0",
   "metadata": {},
   "outputs": [
    {
     "data": {
      "image/png": "[encoded data removed]",
      "text/plain": [
       "<Figure size 432x288 with 1 Axes>"
      ]
     },
     "metadata": {
      "needs_background": "light"
     },
     "output_type": "display_data"
    }
   ],
   "source": [
    "#plot the graph\n",
    "predicted = model(torch.from_numpy(x_train)).detach().numpy()\n",
    "plt.plot(x_train,y_train, 'ro',label = 'original_data')\n",
    "plt.plot(x_train, predicted,label = 'Fitted_line')\n",
    "plt.legend()\n",
    "plt.show()\n",
    "\n"
   ]
  },
  {
   "cell_type": "code",
   "execution_count": 8,
   "id": "7f3468e1",
   "metadata": {},
   "outputs": [],
   "source": [
    "#save the model checkpoint\n",
    "torch.save(model.state_dict(), 'linear_regression_model.ckpt')"
   ]
  },
  {
   "cell_type": "code",
   "execution_count": null,
   "id": "794a3b55",
   "metadata": {},
   "outputs": [],
   "source": []
  }
 ],
 "metadata": {
  "kernelspec": {
   "display_name": "Python 3 (ipykernel)",
   "language": "python",
   "name": "python3"
  },
  "language_info": {
   "codemirror_mode": {
    "name": "ipython",
    "version": 3
   },
   "file_extension": ".py",
   "mimetype": "text/x-python",
   "name": "python",
   "nbconvert_exporter": "python",
   "pygments_lexer": "ipython3",
   "version": "3.9.12"
  }
 },
 "nbformat": 4,
 "nbformat_minor": 5
}

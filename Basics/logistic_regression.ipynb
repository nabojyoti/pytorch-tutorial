{
 "cells": [
  {
   "cell_type": "code",
   "execution_count": 1,
   "id": "4be61c88",
   "metadata": {},
   "outputs": [],
   "source": [
    "import torch\n",
    "import torch.nn as nn\n",
    "import torchvision\n",
    "import torchvision.transforms as transforms"
   ]
  },
  {
   "cell_type": "code",
   "execution_count": 2,
   "id": "d652b256",
   "metadata": {},
   "outputs": [],
   "source": [
    "# Hyper-parameters\n",
    "input_size = 28*28  #784\n",
    "num_classes = 10\n",
    "num_epochs = 5\n",
    "batch_size = 100\n",
    "learning_rate = 0.001\n"
   ]
  },
  {
   "cell_type": "code",
   "execution_count": 3,
   "id": "98f0b0f2",
   "metadata": {},
   "outputs": [],
   "source": [
    "#MNIST dataset (images and labels)\n",
    "\n",
    "train_dataset = torchvision.datasets.MNIST(root = '../../data',\n",
    "                                          train = True,\n",
    "                                          transform = transforms.ToTensor(),\n",
    "                                          download = True)\n",
    "\n",
    "test_dataset = torchvision.datasets.MNIST(root = '../../data',\n",
    "                                         train = False,\n",
    "                                         transform = transforms.ToTensor()\n",
    "                                         )\n",
    "\n",
    "#Data loader (input pipeline)\n",
    "train_loader = torch.utils.data.DataLoader(dataset = train_dataset,\n",
    "                                          batch_size = batch_size,\n",
    "                                          shuffle = True)\n",
    "\n",
    "test_loader = torch.utils.data.DataLoader(dataset = test_dataset,\n",
    "                                         batch_size = batch_size,\n",
    "                                         shuffle = False)"
   ]
  },
  {
   "cell_type": "code",
   "execution_count": 4,
   "id": "1ae5bc54",
   "metadata": {},
   "outputs": [],
   "source": [
    "#Logistic regression model\n",
    "\n",
    "model = nn.Linear(input_size, num_classes)\n",
    "\n",
    "# Loss and optimizer\n",
    "# nn.CrossEntropyLoss() computes softmax internally\n",
    "criterion = nn.CrossEntropyLoss()\n",
    "optimizer = torch.optim.SGD(model.parameters(), lr = learning_rate)"
   ]
  },
  {
   "cell_type": "code",
   "execution_count": 5,
   "id": "8ade0043",
   "metadata": {},
   "outputs": [
    {
     "name": "stdout",
     "output_type": "stream",
     "text": [
      "Epoch [1/5], Step [100/600], Loss: 2.1928\n",
      "Epoch [1/5], Step [200/600], Loss: 2.1564\n",
      "Epoch [1/5], Step [300/600], Loss: 1.9976\n",
      "Epoch [1/5], Step [400/600], Loss: 1.9449\n",
      "Epoch [1/5], Step [500/600], Loss: 1.8032\n",
      "Epoch [1/5], Step [600/600], Loss: 1.8314\n",
      "Epoch [2/5], Step [100/600], Loss: 1.7072\n",
      "Epoch [2/5], Step [200/600], Loss: 1.6082\n",
      "Epoch [2/5], Step [300/600], Loss: 1.5832\n",
      "Epoch [2/5], Step [400/600], Loss: 1.5703\n",
      "Epoch [2/5], Step [500/600], Loss: 1.4899\n",
      "Epoch [2/5], Step [600/600], Loss: 1.4629\n",
      "Epoch [3/5], Step [100/600], Loss: 1.4554\n",
      "Epoch [3/5], Step [200/600], Loss: 1.3691\n",
      "Epoch [3/5], Step [300/600], Loss: 1.2179\n",
      "Epoch [3/5], Step [400/600], Loss: 1.3244\n",
      "Epoch [3/5], Step [500/600], Loss: 1.2607\n",
      "Epoch [3/5], Step [600/600], Loss: 1.1976\n",
      "Epoch [4/5], Step [100/600], Loss: 1.1970\n",
      "Epoch [4/5], Step [200/600], Loss: 1.1967\n",
      "Epoch [4/5], Step [300/600], Loss: 1.1786\n",
      "Epoch [4/5], Step [400/600], Loss: 1.0515\n",
      "Epoch [4/5], Step [500/600], Loss: 1.1234\n",
      "Epoch [4/5], Step [600/600], Loss: 1.1530\n",
      "Epoch [5/5], Step [100/600], Loss: 0.9910\n",
      "Epoch [5/5], Step [200/600], Loss: 1.0745\n",
      "Epoch [5/5], Step [300/600], Loss: 1.0458\n",
      "Epoch [5/5], Step [400/600], Loss: 1.0275\n",
      "Epoch [5/5], Step [500/600], Loss: 1.0292\n",
      "Epoch [5/5], Step [600/600], Loss: 1.0612\n"
     ]
    }
   ],
   "source": [
    "#Train the model\n",
    "total_step = len(train_loader)\n",
    "for epoch in range(num_epochs):\n",
    "    for i, (images, labels) in enumerate(train_loader):\n",
    "        # Reshape image to (batch_size, input_size)\n",
    "        images = images.reshape(-1, input_size)\n",
    "        \n",
    "        # Forward pass\n",
    "        outputs = model(images)\n",
    "        loss = criterion(outputs, labels)\n",
    "        \n",
    "        # Backward and optimize\n",
    "        optimizer.zero_grad()\n",
    "        loss.backward()\n",
    "        optimizer.step()\n",
    "        \n",
    "        if (i+1) % 100 == 0:\n",
    "            print('Epoch [{}/{}], Step [{}/{}], Loss: {:.4f}'\n",
    "                 .format(epoch+1, num_epochs, i+1, total_step, loss.item()))\n",
    "            "
   ]
  },
  {
   "cell_type": "code",
   "execution_count": 6,
   "id": "77347d77",
   "metadata": {},
   "outputs": [
    {
     "name": "stdout",
     "output_type": "stream",
     "text": [
      "Accuracy of the model on the 10000 test images: 83.6500015258789 %\n"
     ]
    }
   ],
   "source": [
    "# Test the model \n",
    "# In test phase , we don't need to compute gradients (for memory efficiency)\n",
    "with torch.no_grad():\n",
    "    correct = 0\n",
    "    total = 0\n",
    "    for images, labels in test_loader:\n",
    "        images = images.reshape(-1, input_size)\n",
    "        outputs = model(images)\n",
    "        _, predicted = torch.max(outputs.data, 1)\n",
    "        total += labels.size(0)\n",
    "        correct += (predicted == labels).sum()\n",
    "        \n",
    "    print('Accuracy of the model on the 10000 test images: {} %'.format(100*correct / total))"
   ]
  },
  {
   "cell_type": "code",
   "execution_count": 7,
   "id": "7fb99180",
   "metadata": {},
   "outputs": [],
   "source": [
    "# Save the model checkpoint\n",
    "torch.save(model.state_dict(), 'logistic_regression_model.ckpt')"
   ]
  },
  {
   "cell_type": "code",
   "execution_count": null,
   "id": "ba2ed297",
   "metadata": {},
   "outputs": [],
   "source": []
  }
 ],
 "metadata": {
  "kernelspec": {
   "display_name": "Python 3 (ipykernel)",
   "language": "python",
   "name": "python3"
  },
  "language_info": {
   "codemirror_mode": {
    "name": "ipython",
    "version": 3
   },
   "file_extension": ".py",
   "mimetype": "text/x-python",
   "name": "python",
   "nbconvert_exporter": "python",
   "pygments_lexer": "ipython3",
   "version": "3.9.12"
  }
 },
 "nbformat": 4,
 "nbformat_minor": 5
}

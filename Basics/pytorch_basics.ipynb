{
 "cells": [
  {
   "cell_type": "code",
   "execution_count": 1,
   "id": "9a5d10cb",
   "metadata": {},
   "outputs": [],
   "source": [
    "import torch\n",
    "import torchvision\n",
    "import torch.nn as nn\n",
    "import numpy as np\n",
    "import torchvision.transforms as transforms"
   ]
  },
  {
   "cell_type": "code",
   "execution_count": 3,
   "id": "2ec9de69",
   "metadata": {},
   "outputs": [
    {
     "name": "stdout",
     "output_type": "stream",
     "text": [
      "tensor(2.)\n",
      "tensor(1.)\n",
      "tensor(1.)\n"
     ]
    }
   ],
   "source": [
    "# Basic autograd example 1\n",
    "\n",
    "# create tensors\n",
    "\n",
    "x = torch.tensor(1., requires_grad = True)\n",
    "w = torch.tensor(2., requires_grad = True)\n",
    "b = torch.tensor(3., requires_grad = True)\n",
    "\n",
    "# Build a computational graph\n",
    "y = w*x + b\n",
    "\n",
    "# Compute gradients\n",
    "y.backward()\n",
    "\n",
    "# print out the gradients\n",
    "print(x.grad) \n",
    "print(w.grad)\n",
    "print(b.grad)"
   ]
  },
  {
   "cell_type": "code",
   "execution_count": 5,
   "id": "23f1ab49",
   "metadata": {},
   "outputs": [
    {
     "name": "stdout",
     "output_type": "stream",
     "text": [
      "w:  Parameter containing:\n",
      "tensor([[-0.0670, -0.4310, -0.2726],\n",
      "        [ 0.1649,  0.3939, -0.1413]], requires_grad=True)\n",
      "b:  Parameter containing:\n",
      "tensor([-0.2304, -0.1785], requires_grad=True)\n",
      "loss:  0.8109996914863586\n",
      "dL/dw:  tensor([[-0.5828, -0.5291, -0.6683],\n",
      "        [ 0.0165, -0.2694, -0.4347]])\n",
      "dL/db:  tensor([-0.0163, -0.4687])\n",
      "loss after 1 step optimization:  0.7956877946853638\n"
     ]
    }
   ],
   "source": [
    "# Basic autograd example 2\n",
    "\n",
    "#create tensors of shape (10, 3) and (10, 2)\n",
    "x = torch.randn(10, 3)\n",
    "y = torch.randn(10, 2)\n",
    "\n",
    "# Build a fully connected layer \n",
    "linear = nn.Linear(3, 2)\n",
    "print('w: ', linear.weight)\n",
    "print('b: ',linear.bias)\n",
    "\n",
    "# Build loss function and optimizer\n",
    "criterion = nn.MSELoss()\n",
    "optimizer =  torch.optim.SGD(linear.parameters(), lr = 0.01)\n",
    "\n",
    "# Forward pass\n",
    "pred = linear(x)\n",
    "\n",
    "# Compute loss\n",
    "loss = criterion(pred, y)\n",
    "print('loss: ', loss.item())\n",
    "\n",
    "#Backward pass\n",
    "loss.backward()\n",
    "\n",
    "#print out gradients\n",
    "print('dL/dw: ', linear.weight.grad)\n",
    "print('dL/db: ', linear.bias.grad)\n",
    "\n",
    "# 1-step gradient descent\n",
    "optimizer.step()\n",
    "\n",
    "# you can also perform gradient descent at low level\n",
    "# linear.weight.data.sub(0.01 * linear.weight.grad.data)\n",
    "# linear.bias.data.sub_(0.01 * linear.bias.grad.data)\n",
    "\n",
    "# print out the loss after 1-step gradient descent\n",
    "pred = linear(x)\n",
    "loss = criterion(pred, y)\n",
    "print('loss after 1 step optimization: ', loss.item())"
   ]
  },
  {
   "cell_type": "code",
   "execution_count": 7,
   "id": "6859abea",
   "metadata": {},
   "outputs": [],
   "source": [
    "# 3. Loading data from numpy \n",
    "\n",
    "# Create numpy array\n",
    "x = np.array([[1,2], [3,4]])\n",
    "\n",
    "# Convert the numpy array to a torch tensor\n",
    "y = torch.from_numpy(x)\n",
    "\n",
    "# Convert the torch tensor to numpy array\n",
    "z = y.numpy()"
   ]
  },
  {
   "cell_type": "code",
   "execution_count": 8,
   "id": "4146fc15",
   "metadata": {},
   "outputs": [
    {
     "name": "stdout",
     "output_type": "stream",
     "text": [
      "Downloading https://www.cs.toronto.edu/~kriz/cifar-10-python.tar.gz to ../../data/cifar-10-python.tar.gz\n"
     ]
    },
    {
     "data": {
      "application/vnd.jupyter.widget-view+json": {
       "model_id": "0b7755010dd4499ab98a621f3d1ccba2",
       "version_major": 2,
       "version_minor": 0
      },
      "text/plain": [
       "  0%|          | 0/170498071 [00:00<?, ?it/s]"
      ]
     },
     "metadata": {},
     "output_type": "display_data"
    },
    {
     "name": "stdout",
     "output_type": "stream",
     "text": [
      "Extracting ../../data/cifar-10-python.tar.gz to ../../data/\n",
      "torch.Size([3, 32, 32])\n",
      "6\n"
     ]
    }
   ],
   "source": [
    "# 4. Input pipeline\n",
    "\n",
    "# Download and construct CIFAR-10 dataset\n",
    "train_dataset = torchvision.datasets.CIFAR10(root = '../../data/',\n",
    "                                            train = True,\n",
    "                                            transform = transforms.ToTensor(),\n",
    "                                            download = True)\n",
    "\n",
    "# Fetch one data pair ( read data from disk)\n",
    "image, label = train_dataset[0]\n",
    "print(image.size())\n",
    "print(label)\n",
    "\n",
    "# Data loader (this provide queues and threads in a very simple way)\n",
    "train_loader = torch.utils.data.DataLoader(dataset=train_dataset,\n",
    "                                          batch_size = 64,\n",
    "                                          shuffle = True)\n",
    "\n",
    "# When iteration strats , queue and thread start to load data from files\n",
    "data_iter = iter(train_loader)\n",
    "\n",
    "# Mini-batch images and labels\n",
    "images, labels = data_iter.next()\n",
    "\n",
    "# Actual usage of the data loader is as below \n",
    "for images, labels in train_loader:\n",
    "    # Training code should be written here\n",
    "    pass"
   ]
  },
  {
   "cell_type": "code",
   "execution_count": 12,
   "id": "d8a1a894",
   "metadata": {},
   "outputs": [],
   "source": [
    "# Input pipeline for custom dataset\n",
    "\n",
    "# we should build our custom dataset as below\n",
    "\n",
    "class CustomDataset(torch.utils.data.Dataset):\n",
    "    def __init__(self):\n",
    "        # TODO\n",
    "        # 1. Initialize file paths or a list of files names\n",
    "        pass\n",
    "    \n",
    "    def __getitem__(self, index):\n",
    "        # TODO\n",
    "        # 1. Read one data from file(e.g. using numpy.fromfile, PIL.Image.open)\n",
    "        # 2. Preprocess the data (e.g. torchvision.Transform)\n",
    "        # 3. Return a data pair (e.g. image and label)\n",
    "        pass\n",
    "    def __len__(self):\n",
    "        # We should change from 0 to the total size of the dataset\n",
    "        return 0\n",
    "    \n",
    "# We can then use the prebuilt data loader\n",
    "custom_dataset =  CustomDataset()\n",
    "train_loader = torch.utils.data.DataLoader(dataset=custom_dataset,\n",
    "                                          batch_size = 64,\n",
    "                                          shuffle = True)"
   ]
  },
  {
   "cell_type": "code",
   "execution_count": 10,
   "id": "280ff9f2",
   "metadata": {},
   "outputs": [
    {
     "name": "stderr",
     "output_type": "stream",
     "text": [
      "Downloading: \"https://download.pytorch.org/models/resnet18-f37072fd.pth\" to /home/cloudcraftz/.cache/torch/hub/checkpoints/resnet18-f37072fd.pth\n"
     ]
    },
    {
     "data": {
      "application/vnd.jupyter.widget-view+json": {
       "model_id": "bb48f1fbf9b84afc8b660384d583c7bd",
       "version_major": 2,
       "version_minor": 0
      },
      "text/plain": [
       "  0%|          | 0.00/44.7M [00:00<?, ?B/s]"
      ]
     },
     "metadata": {},
     "output_type": "display_data"
    },
    {
     "name": "stdout",
     "output_type": "stream",
     "text": [
      "torch.Size([64, 100])\n"
     ]
    }
   ],
   "source": [
    "# 6. Pretrained model\n",
    "\n",
    "# Download and load the pretrained ResNet-18\n",
    "resnet = torchvision.models.resnet18(pretrained=True)\n",
    "\n",
    "# If we want to finetune only the top layer of the model , set as below\n",
    "for param in resnet.parameters():\n",
    "    param.requires_grad = False\n",
    "    \n",
    "#  Replace the top layer for finetuning\n",
    "resnet.fc = nn.Linear(resnet.fc.in_features, 100) # 100 is an example\n",
    "\n",
    "# Forward pass\n",
    "images = torch.randn(64, 3, 224, 224)\n",
    "outputs = resnet(images)\n",
    "print(outputs.size()) # (64,100)\n",
    "\n"
   ]
  },
  {
   "cell_type": "code",
   "execution_count": 11,
   "id": "70a18602",
   "metadata": {},
   "outputs": [
    {
     "data": {
      "text/plain": [
       "<All keys matched successfully>"
      ]
     },
     "execution_count": 11,
     "metadata": {},
     "output_type": "execute_result"
    }
   ],
   "source": [
    "# 7. Save and load the model\n",
    "torch.save(resnet, 'resnet_model.ckpt')\n",
    "model = torch.load('resnet_model.ckpt')\n",
    "\n",
    "# save and load the only model parameters (recommended)\n",
    "torch.save(resnet.state_dict(), 'resnet_params.ckpt')\n",
    "resnet.load_state_dict(torch.load('resnet_params.ckpt'))"
   ]
  },
  {
   "cell_type": "code",
   "execution_count": null,
   "id": "a4126182",
   "metadata": {},
   "outputs": [],
   "source": []
  }
 ],
 "metadata": {
  "kernelspec": {
   "display_name": "Python 3 (ipykernel)",
   "language": "python",
   "name": "python3"
  },
  "language_info": {
   "codemirror_mode": {
    "name": "ipython",
    "version": 3
   },
   "file_extension": ".py",
   "mimetype": "text/x-python",
   "name": "python",
   "nbconvert_exporter": "python",
   "pygments_lexer": "ipython3",
   "version": "3.9.12"
  }
 },
 "nbformat": 4,
 "nbformat_minor": 5
}
